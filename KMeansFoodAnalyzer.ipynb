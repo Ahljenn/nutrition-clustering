{
  "nbformat": 4,
  "nbformat_minor": 0,
  "metadata": {
    "colab": {
      "provenance": [],
      "authorship_tag": "ABX9TyNxk7xeOLg+NoIx8Ir/vQPn"
    },
    "kernelspec": {
      "name": "python3",
      "display_name": "Python 3"
    },
    "language_info": {
      "name": "python"
    }
  },
  "cells": [
    {
      "cell_type": "markdown",
      "source": [
        "# Import dependencies"
      ],
      "metadata": {
        "id": "4MmzKUevezTQ"
      }
    },
    {
      "cell_type": "code",
      "source": [
        "!pip install transformers\n",
        "!pip install torch"
      ],
      "metadata": {
        "colab": {
          "base_uri": "https://localhost:8080/"
        },
        "id": "vccR-yvffig8",
        "outputId": "43b00e57-14f7-4319-8515-74f2d5cf2e13"
      },
      "execution_count": 6,
      "outputs": [
        {
          "output_type": "stream",
          "name": "stdout",
          "text": [
            "Collecting transformers\n",
            "  Downloading transformers-4.33.3-py3-none-any.whl (7.6 MB)\n",
            "\u001b[2K     \u001b[90m━━━━━━━━━━━━━━━━━━━━━━━━━━━━━━━━━━━━━━━━\u001b[0m \u001b[32m7.6/7.6 MB\u001b[0m \u001b[31m46.8 MB/s\u001b[0m eta \u001b[36m0:00:00\u001b[0m\n",
            "\u001b[?25hRequirement already satisfied: filelock in /usr/local/lib/python3.10/dist-packages (from transformers) (3.12.2)\n",
            "Collecting huggingface-hub<1.0,>=0.15.1 (from transformers)\n",
            "  Downloading huggingface_hub-0.17.3-py3-none-any.whl (295 kB)\n",
            "\u001b[2K     \u001b[90m━━━━━━━━━━━━━━━━━━━━━━━━━━━━━━━━━━━━━━\u001b[0m \u001b[32m295.0/295.0 kB\u001b[0m \u001b[31m25.3 MB/s\u001b[0m eta \u001b[36m0:00:00\u001b[0m\n",
            "\u001b[?25hRequirement already satisfied: numpy>=1.17 in /usr/local/lib/python3.10/dist-packages (from transformers) (1.23.5)\n",
            "Requirement already satisfied: packaging>=20.0 in /usr/local/lib/python3.10/dist-packages (from transformers) (23.1)\n",
            "Requirement already satisfied: pyyaml>=5.1 in /usr/local/lib/python3.10/dist-packages (from transformers) (6.0.1)\n",
            "Requirement already satisfied: regex!=2019.12.17 in /usr/local/lib/python3.10/dist-packages (from transformers) (2023.6.3)\n",
            "Requirement already satisfied: requests in /usr/local/lib/python3.10/dist-packages (from transformers) (2.31.0)\n",
            "Collecting tokenizers!=0.11.3,<0.14,>=0.11.1 (from transformers)\n",
            "  Downloading tokenizers-0.13.3-cp310-cp310-manylinux_2_17_x86_64.manylinux2014_x86_64.whl (7.8 MB)\n",
            "\u001b[2K     \u001b[90m━━━━━━━━━━━━━━━━━━━━━━━━━━━━━━━━━━━━━━━━\u001b[0m \u001b[32m7.8/7.8 MB\u001b[0m \u001b[31m81.7 MB/s\u001b[0m eta \u001b[36m0:00:00\u001b[0m\n",
            "\u001b[?25hCollecting safetensors>=0.3.1 (from transformers)\n",
            "  Downloading safetensors-0.3.3-cp310-cp310-manylinux_2_17_x86_64.manylinux2014_x86_64.whl (1.3 MB)\n",
            "\u001b[2K     \u001b[90m━━━━━━━━━━━━━━━━━━━━━━━━━━━━━━━━━━━━━━━━\u001b[0m \u001b[32m1.3/1.3 MB\u001b[0m \u001b[31m73.4 MB/s\u001b[0m eta \u001b[36m0:00:00\u001b[0m\n",
            "\u001b[?25hRequirement already satisfied: tqdm>=4.27 in /usr/local/lib/python3.10/dist-packages (from transformers) (4.66.1)\n",
            "Requirement already satisfied: fsspec in /usr/local/lib/python3.10/dist-packages (from huggingface-hub<1.0,>=0.15.1->transformers) (2023.6.0)\n",
            "Requirement already satisfied: typing-extensions>=3.7.4.3 in /usr/local/lib/python3.10/dist-packages (from huggingface-hub<1.0,>=0.15.1->transformers) (4.5.0)\n",
            "Requirement already satisfied: charset-normalizer<4,>=2 in /usr/local/lib/python3.10/dist-packages (from requests->transformers) (3.2.0)\n",
            "Requirement already satisfied: idna<4,>=2.5 in /usr/local/lib/python3.10/dist-packages (from requests->transformers) (3.4)\n",
            "Requirement already satisfied: urllib3<3,>=1.21.1 in /usr/local/lib/python3.10/dist-packages (from requests->transformers) (2.0.4)\n",
            "Requirement already satisfied: certifi>=2017.4.17 in /usr/local/lib/python3.10/dist-packages (from requests->transformers) (2023.7.22)\n",
            "Installing collected packages: tokenizers, safetensors, huggingface-hub, transformers\n",
            "Successfully installed huggingface-hub-0.17.3 safetensors-0.3.3 tokenizers-0.13.3 transformers-4.33.3\n",
            "Requirement already satisfied: torch in /usr/local/lib/python3.10/dist-packages (2.0.1+cu118)\n",
            "Requirement already satisfied: filelock in /usr/local/lib/python3.10/dist-packages (from torch) (3.12.2)\n",
            "Requirement already satisfied: typing-extensions in /usr/local/lib/python3.10/dist-packages (from torch) (4.5.0)\n",
            "Requirement already satisfied: sympy in /usr/local/lib/python3.10/dist-packages (from torch) (1.12)\n",
            "Requirement already satisfied: networkx in /usr/local/lib/python3.10/dist-packages (from torch) (3.1)\n",
            "Requirement already satisfied: jinja2 in /usr/local/lib/python3.10/dist-packages (from torch) (3.1.2)\n",
            "Requirement already satisfied: triton==2.0.0 in /usr/local/lib/python3.10/dist-packages (from torch) (2.0.0)\n",
            "Requirement already satisfied: cmake in /usr/local/lib/python3.10/dist-packages (from triton==2.0.0->torch) (3.27.4.1)\n",
            "Requirement already satisfied: lit in /usr/local/lib/python3.10/dist-packages (from triton==2.0.0->torch) (16.0.6)\n",
            "Requirement already satisfied: MarkupSafe>=2.0 in /usr/local/lib/python3.10/dist-packages (from jinja2->torch) (2.1.3)\n",
            "Requirement already satisfied: mpmath>=0.19 in /usr/local/lib/python3.10/dist-packages (from sympy->torch) (1.3.0)\n"
          ]
        }
      ]
    },
    {
      "cell_type": "code",
      "execution_count": 41,
      "metadata": {
        "id": "nrK0gFmJd_Qo"
      },
      "outputs": [],
      "source": [
        "from sklearn.feature_extraction.text import CountVectorizer\n",
        "from sklearn.cluster import KMeans"
      ]
    },
    {
      "cell_type": "markdown",
      "source": [
        "# Ingredients"
      ],
      "metadata": {
        "id": "uJPZYpNbiNlf"
      }
    },
    {
      "cell_type": "code",
      "source": [
        "ingredients = [\n",
        "    \"Artificial Sweeteners (Aspartame, Saccharin, Sucralose)\",\n",
        "    \"High-Fructose Corn Syrup\",\n",
        "    \"Trans Fats (Partially Hydrogenated Oils)\",\n",
        "    \"Monosodium Glutamate (MSG)\",\n",
        "    \"Artificial Coloring (Red 40, Yellow 5)\",\n",
        "    \"Sodium Nitrite (Found in processed meats)\",\n",
        "    \"BHA (Butylated Hydroxyanisole)\",\n",
        "    \"BHT (Butylated Hydroxytoluene)\",\n",
        "    \"Potassium Bromate (Found in some bread products)\",\n",
        "    \"Olestra (Fat Substitute)\",\n",
        "    \"Spinach\",\n",
        "    \"Tomatoes\",\n",
        "    \"Chocolate\"\n",
        "    # Add more real ingredients as needed\n",
        "]\n"
      ],
      "metadata": {
        "id": "lBFUlUW5iLn9"
      },
      "execution_count": 39,
      "outputs": []
    },
    {
      "cell_type": "code",
      "source": [
        "# Convert the list of ingredients into a numerical feature matrix\n",
        "vectorizer = CountVectorizer(binary=True, lowercase=True)\n",
        "X = vectorizer.fit_transform(ingredients)\n",
        "\n",
        "# Apply K-means clustering\n",
        "num_clusters = 3  # You can adjust the number of clusters\n",
        "kmeans = KMeans(n_clusters=num_clusters, random_state=0)\n",
        "clusters = kmeans.fit_predict(X)\n",
        "\n",
        "# Create TF-IDF vectorizer\n",
        "tfidf_vectorizer = TfidfVectorizer()\n",
        "tfidf_matrix = tfidf_vectorizer.fit_transform(ingredients)\n",
        "\n",
        "# Apply K-means clustering\n",
        "kmeans = KMeans(n_clusters=num_clusters, random_state=0)\n",
        "clusters = kmeans.fit_predict(tfidf_matrix)\n",
        "\n",
        "# Assign ingredients to clusters\n",
        "ingredient_clusters = {}\n",
        "for i, cluster in enumerate(clusters):\n",
        "    if cluster not in ingredient_clusters:\n",
        "        ingredient_clusters[cluster] = []\n",
        "    ingredient_clusters[cluster].append(ingredients[i])\n",
        "\n",
        "# Print ingredient clusters\n",
        "for cluster, items in ingredient_clusters.items():\n",
        "    print(f\"Cluster {cluster + 1}:\")\n",
        "    for item in items:\n",
        "        print(f\" - {item}\")\n",
        "    print()"
      ],
      "metadata": {
        "colab": {
          "base_uri": "https://localhost:8080/"
        },
        "id": "U8pGo5BPg1ZW",
        "outputId": "a476ad03-925b-4944-f535-87c156a864f0"
      },
      "execution_count": 42,
      "outputs": [
        {
          "output_type": "stream",
          "name": "stdout",
          "text": [
            "Cluster 3:\n",
            " - Artificial Sweeteners (Aspartame, Saccharin, Sucralose)\n",
            " - Artificial Coloring (Red 40, Yellow 5)\n",
            "\n",
            "Cluster 1:\n",
            " - High-Fructose Corn Syrup\n",
            " - Trans Fats (Partially Hydrogenated Oils)\n",
            " - Monosodium Glutamate (MSG)\n",
            " - Sodium Nitrite (Found in processed meats)\n",
            " - Potassium Bromate (Found in some bread products)\n",
            " - Olestra (Fat Substitute)\n",
            " - Spinach\n",
            " - Tomatoes\n",
            " - Chocolate\n",
            "\n",
            "Cluster 2:\n",
            " - BHA (Butylated Hydroxyanisole)\n",
            " - BHT (Butylated Hydroxytoluene)\n",
            "\n"
          ]
        }
      ]
    }
  ]
}