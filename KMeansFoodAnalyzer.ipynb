{
  "nbformat": 4,
  "nbformat_minor": 0,
  "metadata": {
    "colab": {
      "provenance": [],
      "authorship_tag": "ABX9TyPBT2MsS/5U8qrzIwQYXW2N"
    },
    "kernelspec": {
      "name": "python3",
      "display_name": "Python 3"
    },
    "language_info": {
      "name": "python"
    }
  },
  "cells": [
    {
      "cell_type": "markdown",
      "source": [
        "# Import dependencies"
      ],
      "metadata": {
        "id": "4MmzKUevezTQ"
      }
    },
    {
      "cell_type": "code",
      "execution_count": 44,
      "metadata": {
        "id": "nrK0gFmJd_Qo"
      },
      "outputs": [],
      "source": [
        "from sklearn.feature_extraction.text import CountVectorizer\n",
        "from sklearn.cluster import KMeans"
      ]
    },
    {
      "cell_type": "markdown",
      "source": [
        "# Ingredients"
      ],
      "metadata": {
        "id": "uJPZYpNbiNlf"
      }
    },
    {
      "cell_type": "code",
      "source": [
        "all_ingredients = [\n",
        "    [\n",
        "    \"Whole Wheat Flour\",\n",
        "    \"Water\",\n",
        "    \"Yeast\",\n",
        "    \"Honey\",\n",
        "    \"Salt\",\n",
        "    \"Olive Oil\",\n",
        "    \"Vital Wheat Gluten\",\n",
        "    \"Dough Conditioners (Mono and Diglycerides, Ethoxylated Mono and Diglycerides, Sodium Stearoyl Lactylate, Ascorbic Acid, Enzymes)\",\n",
        "    \"Calcium Propionate (to retard spoilage)\"\n",
        "    ],\n",
        "    [\n",
        "    \"Chicken (whole or bone-in pieces)\",\n",
        "    \"Water or Chicken Broth\",\n",
        "    \"Carrots\",\n",
        "    \"Celery\",\n",
        "    \"Onion\",\n",
        "    \"Garlic\",\n",
        "    \"Salt\",\n",
        "    \"Pepper\",\n",
        "    \"Bay Leaves\",\n",
        "    \"Thyme\",\n",
        "    \"Parsley\",\n",
        "    \"Noodles or Rice (optional)\"\n",
        "    ],\n",
        "]\n",
        "\n",
        "# # Combine all ingredients into a single list\n",
        "# ingredients = []\n",
        "# for sublist in all_ingredients:\n",
        "#     ingredients.extend(sublist)\n",
        "ingredients = all_ingredients[0]"
      ],
      "metadata": {
        "id": "lBFUlUW5iLn9"
      },
      "execution_count": 75,
      "outputs": []
    },
    {
      "cell_type": "markdown",
      "source": [
        "Preform K-means clustering twice, once using a binary representation of ingredients and then using TF-IDF values, and then it prints out the clusters for both representations."
      ],
      "metadata": {
        "id": "c0xbjWq0sMGG"
      }
    },
    {
      "cell_type": "code",
      "source": [
        "# Convert the list of ingredients into a numerical feature matrix\n",
        "vectorizer = CountVectorizer(binary=True, lowercase=True)\n",
        "X = vectorizer.fit_transform(ingredients)\n",
        "\n",
        "# Apply K-means clustering (Binary Occurrence):\n",
        "num_clusters = 5\n",
        "kmeans = KMeans(n_clusters=num_clusters, random_state=0)\n",
        "clusters = kmeans.fit_predict(X)\n",
        "\n",
        "# Create TF-IDF vectorizer\n",
        "tfidf_vectorizer = TfidfVectorizer()\n",
        "tfidf_matrix = tfidf_vectorizer.fit_transform(ingredients)\n",
        "\n",
        "# Apply K-means clustering\n",
        "kmeans = KMeans(n_clusters=num_clusters, random_state=0)\n",
        "clusters = kmeans.fit_predict(tfidf_matrix)\n",
        "\n",
        "# Assign ingredients to clusters\n",
        "ingredient_clusters = {}\n",
        "for i, cluster in enumerate(clusters):\n",
        "    if cluster not in ingredient_clusters:\n",
        "        ingredient_clusters[cluster] = []\n",
        "    ingredient_clusters[cluster].append(ingredients[i])\n",
        "\n",
        "cluster_names = {\n",
        "    0: \"Sweeteners and Artificial Additives\",\n",
        "    1: \"Grains and Flours\",\n",
        "    2: \"Vegetables\",\n",
        "    3: \"Proteins\",\n",
        "    4: \"Herbs and Spices\"\n",
        "}\n",
        "\n",
        "# Print ingredient clusters with cluster names\n",
        "for cluster, items in ingredient_clusters.items():\n",
        "    print(f\"Cluster {cluster + 1} - {cluster_names.get(cluster, 'Unknown')}:\")\n",
        "    for item in items:\n",
        "        print(f\" - {item}\")\n",
        "    print()"
      ],
      "metadata": {
        "colab": {
          "base_uri": "https://localhost:8080/"
        },
        "id": "U8pGo5BPg1ZW",
        "outputId": "5c7cf66e-8422-44e9-b0b7-2c999c5b15bd"
      },
      "execution_count": 76,
      "outputs": [
        {
          "output_type": "stream",
          "name": "stdout",
          "text": [
            "Cluster 4 - Proteins:\n",
            " - Whole Wheat Flour\n",
            " - Vital Wheat Gluten\n",
            "\n",
            "Cluster 2 - Grains and Flours:\n",
            " - Water\n",
            " - Honey\n",
            " - Salt\n",
            " - Dough Conditioners (Mono and Diglycerides, Ethoxylated Mono and Diglycerides, Sodium Stearoyl Lactylate, Ascorbic Acid, Enzymes)\n",
            "\n",
            "Cluster 3 - Vegetables:\n",
            " - Yeast\n",
            "\n",
            "Cluster 1 - Sweeteners and Artificial Additives:\n",
            " - Olive Oil\n",
            "\n",
            "Cluster 5 - Herbs and Spices:\n",
            " - Calcium Propionate (to retard spoilage)\n",
            "\n"
          ]
        }
      ]
    }
  ]
}