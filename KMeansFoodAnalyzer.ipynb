{
  "nbformat": 4,
  "nbformat_minor": 0,
  "metadata": {
    "colab": {
      "provenance": [],
      "authorship_tag": "ABX9TyPR+cueN+k58iQ3WhBW4EEG"
    },
    "kernelspec": {
      "name": "python3",
      "display_name": "Python 3"
    },
    "language_info": {
      "name": "python"
    }
  },
  "cells": [
    {
      "cell_type": "markdown",
      "source": [
        "# Import dependencies"
      ],
      "metadata": {
        "id": "4MmzKUevezTQ"
      }
    },
    {
      "cell_type": "code",
      "execution_count": 44,
      "metadata": {
        "id": "nrK0gFmJd_Qo"
      },
      "outputs": [],
      "source": [
        "from sklearn.feature_extraction.text import CountVectorizer\n",
        "from sklearn.cluster import KMeans"
      ]
    },
    {
      "cell_type": "markdown",
      "source": [
        "# Ingredients"
      ],
      "metadata": {
        "id": "uJPZYpNbiNlf"
      }
    },
    {
      "cell_type": "code",
      "source": [
        "ingredients = [\n",
        "    \"Whole Wheat Flour\",\n",
        "    \"Water\",\n",
        "    \"Yeast\",\n",
        "    \"Honey\",\n",
        "    \"Salt\",\n",
        "    \"Olive Oil\",\n",
        "    \"Vital Wheat Gluten\",\n",
        "    \"Dough Conditioners (Mono and Diglycerides, Ethoxylated Mono and Diglycerides, Sodium Stearoyl Lactylate, Ascorbic Acid, Enzymes)\",\n",
        "    \"Calcium Propionate (to retard spoilage)\"\n",
        "]"
      ],
      "metadata": {
        "id": "lBFUlUW5iLn9"
      },
      "execution_count": 51,
      "outputs": []
    },
    {
      "cell_type": "code",
      "source": [
        "# Convert the list of ingredients into a numerical feature matrix\n",
        "vectorizer = CountVectorizer(binary=True, lowercase=True)\n",
        "X = vectorizer.fit_transform(ingredients)\n",
        "\n",
        "# Apply K-means clustering\n",
        "num_clusters = 5  # You can adjust the number of clusters\n",
        "kmeans = KMeans(n_clusters=num_clusters, random_state=0)\n",
        "clusters = kmeans.fit_predict(X)\n",
        "\n",
        "# Create TF-IDF vectorizer\n",
        "tfidf_vectorizer = TfidfVectorizer()\n",
        "tfidf_matrix = tfidf_vectorizer.fit_transform(ingredients)\n",
        "\n",
        "# Apply K-means clustering\n",
        "kmeans = KMeans(n_clusters=num_clusters, random_state=0)\n",
        "clusters = kmeans.fit_predict(tfidf_matrix)\n",
        "\n",
        "# Assign ingredients to clusters\n",
        "ingredient_clusters = {}\n",
        "for i, cluster in enumerate(clusters):\n",
        "    if cluster not in ingredient_clusters:\n",
        "        ingredient_clusters[cluster] = []\n",
        "    ingredient_clusters[cluster].append(ingredients[i])\n",
        "\n",
        "# Print ingredient clusters\n",
        "for cluster, items in ingredient_clusters.items():\n",
        "    print(f\"Cluster {cluster + 1}:\")\n",
        "    for item in items:\n",
        "        print(f\" - {item}\")\n",
        "    print()"
      ],
      "metadata": {
        "colab": {
          "base_uri": "https://localhost:8080/"
        },
        "id": "U8pGo5BPg1ZW",
        "outputId": "38981d38-6901-465e-f33c-b209753c8ce2"
      },
      "execution_count": 53,
      "outputs": [
        {
          "output_type": "stream",
          "name": "stdout",
          "text": [
            "Cluster 4:\n",
            " - Whole Wheat Flour\n",
            " - Vital Wheat Gluten\n",
            "\n",
            "Cluster 2:\n",
            " - Water\n",
            " - Honey\n",
            " - Salt\n",
            " - Dough Conditioners (Mono and Diglycerides, Ethoxylated Mono and Diglycerides, Sodium Stearoyl Lactylate, Ascorbic Acid, Enzymes)\n",
            "\n",
            "Cluster 3:\n",
            " - Yeast\n",
            "\n",
            "Cluster 1:\n",
            " - Olive Oil\n",
            "\n",
            "Cluster 5:\n",
            " - Calcium Propionate (to retard spoilage)\n",
            "\n"
          ]
        }
      ]
    }
  ]
}